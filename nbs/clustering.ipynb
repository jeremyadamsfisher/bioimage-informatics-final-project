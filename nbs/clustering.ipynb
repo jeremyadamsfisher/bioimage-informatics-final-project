{
 "cells": [
  {
   "cell_type": "code",
   "execution_count": 12,
   "metadata": {},
   "outputs": [
    {
     "data": {
      "text/html": [
       "        <script type=\"text/javascript\">\n",
       "        window.PlotlyConfig = {MathJaxConfig: 'local'};\n",
       "        if (window.MathJax) {MathJax.Hub.Config({SVG: {font: \"STIX-Web\"}});}\n",
       "        if (typeof require !== 'undefined') {\n",
       "        require.undef(\"plotly\");\n",
       "        requirejs.config({\n",
       "            paths: {\n",
       "                'plotly': ['https://cdn.plot.ly/plotly-latest.min']\n",
       "            }\n",
       "        });\n",
       "        require(['plotly'], function(Plotly) {\n",
       "            window._Plotly = Plotly;\n",
       "        });\n",
       "        }\n",
       "        </script>\n",
       "        "
      ]
     },
     "metadata": {},
     "output_type": "display_data"
    }
   ],
   "source": [
    "import pandas as pd\n",
    "import seaborn as sns\n",
    "from sklearn.cluster import KMeans\n",
    "from sklearn.decomposition import PCA"
   ]
  },
  {
   "cell_type": "code",
   "execution_count": 13,
   "metadata": {},
   "outputs": [],
   "source": [
    "df = pd.read_csv(\"../data/dataset.csv\").drop(columns=[\"Unnamed: 0\"])\n",
    "n_diagnoses = df.primary_diagnosis.nunique()\n",
    "X = df[[\"l0\", \"l1\", \"l2\", \"l3\"]]"
   ]
  },
  {
   "cell_type": "code",
   "execution_count": 14,
   "metadata": {},
   "outputs": [],
   "source": [
    "cluster_id = KMeans(n_clusters=n_diagnoses, random_state=0).fit_predict(X)\n",
    "cluster_id = [str(i) for i in cluster_id]\n",
    "pca = PCA(n_components=2).fit_transform(X)\n",
    "pca_1, pca_2 = pca[:,0], pca[:,1]\n",
    "df = df.assign(cluster_id=cluster_id, pca_1=pca_1, pca_2=pca_2)"
   ]
  },
  {
   "cell_type": "code",
   "execution_count": 15,
   "metadata": {},
   "outputs": [
    {
     "data": {
      "text/html": [
       "<div>\n",
       "<style scoped>\n",
       "    .dataframe tbody tr th:only-of-type {\n",
       "        vertical-align: middle;\n",
       "    }\n",
       "\n",
       "    .dataframe tbody tr th {\n",
       "        vertical-align: top;\n",
       "    }\n",
       "\n",
       "    .dataframe thead th {\n",
       "        text-align: right;\n",
       "    }\n",
       "</style>\n",
       "<table border=\"1\" class=\"dataframe\">\n",
       "  <thead>\n",
       "    <tr style=\"text-align: right;\">\n",
       "      <th></th>\n",
       "      <th>prefix</th>\n",
       "      <th>primary_diagnosis</th>\n",
       "      <th>days_to_death</th>\n",
       "      <th>case_id</th>\n",
       "      <th>img_fp</th>\n",
       "      <th>l0</th>\n",
       "      <th>l1</th>\n",
       "      <th>l2</th>\n",
       "      <th>l3</th>\n",
       "      <th>cluster_id</th>\n",
       "      <th>pca_1</th>\n",
       "      <th>pca_2</th>\n",
       "    </tr>\n",
       "  </thead>\n",
       "  <tbody>\n",
       "    <tr>\n",
       "      <td>0</td>\n",
       "      <td>TCGA-YL-A8SH</td>\n",
       "      <td>Adenocarcinoma, NOS</td>\n",
       "      <td>875.0</td>\n",
       "      <td>bfb973eb-d42d-4900-a606-a381d2317555</td>\n",
       "      <td>TCGA-YL-A8SH-01Z-00-DX2.2B25B4BE-0236-44E4-A04...</td>\n",
       "      <td>0.479840</td>\n",
       "      <td>1.221100</td>\n",
       "      <td>0.631098</td>\n",
       "      <td>0.740487</td>\n",
       "      <td>0</td>\n",
       "      <td>-0.116056</td>\n",
       "      <td>-0.355757</td>\n",
       "    </tr>\n",
       "    <tr>\n",
       "      <td>1</td>\n",
       "      <td>TCGA-CJ-5679</td>\n",
       "      <td>Clear cell adenocarcinoma, NOS</td>\n",
       "      <td>679.0</td>\n",
       "      <td>3fa6c93e-e7fe-402c-9526-c81411aa0920</td>\n",
       "      <td>TCGA-CJ-5679-01Z-00-DX1.659CD853-BC8A-474D-9EE...</td>\n",
       "      <td>0.632034</td>\n",
       "      <td>0.632034</td>\n",
       "      <td>0.981619</td>\n",
       "      <td>1.039226</td>\n",
       "      <td>2</td>\n",
       "      <td>0.310956</td>\n",
       "      <td>0.243598</td>\n",
       "    </tr>\n",
       "    <tr>\n",
       "      <td>2</td>\n",
       "      <td>TCGA-B0-5088</td>\n",
       "      <td>Clear cell adenocarcinoma, NOS</td>\n",
       "      <td>563.0</td>\n",
       "      <td>0022478c-4dfd-4cbe-a05e-fb20310844e3</td>\n",
       "      <td>TCGA-B0-5088-01Z-00-DX1.69bb79f8-33cc-4c9c-be6...</td>\n",
       "      <td>1.209505</td>\n",
       "      <td>1.093733</td>\n",
       "      <td>1.121510</td>\n",
       "      <td>1.303979</td>\n",
       "      <td>5</td>\n",
       "      <td>0.911711</td>\n",
       "      <td>-0.280997</td>\n",
       "    </tr>\n",
       "    <tr>\n",
       "      <td>3</td>\n",
       "      <td>TCGA-B8-4143</td>\n",
       "      <td>Clear cell adenocarcinoma, NOS</td>\n",
       "      <td>709.0</td>\n",
       "      <td>dfa9513d-4e09-405b-a80f-2987ec5c5263</td>\n",
       "      <td>TCGA-B8-4143-01Z-00-DX1.44100402-0862-4e68-83f...</td>\n",
       "      <td>0.709068</td>\n",
       "      <td>0.674646</td>\n",
       "      <td>0.953074</td>\n",
       "      <td>0.810293</td>\n",
       "      <td>2</td>\n",
       "      <td>0.271985</td>\n",
       "      <td>0.196638</td>\n",
       "    </tr>\n",
       "    <tr>\n",
       "      <td>4</td>\n",
       "      <td>TCGA-55-A490</td>\n",
       "      <td>Adenocarcinoma, NOS</td>\n",
       "      <td>99.0</td>\n",
       "      <td>b89de053-d253-447f-952e-9a2edcf6bca5</td>\n",
       "      <td>TCGA-55-A490-01Z-00-DX1.07D77502-7216-4C23-9BB...</td>\n",
       "      <td>1.010598</td>\n",
       "      <td>0.724026</td>\n",
       "      <td>0.856795</td>\n",
       "      <td>0.886262</td>\n",
       "      <td>2</td>\n",
       "      <td>0.484621</td>\n",
       "      <td>0.056095</td>\n",
       "    </tr>\n",
       "  </tbody>\n",
       "</table>\n",
       "</div>"
      ],
      "text/plain": [
       "         prefix               primary_diagnosis  days_to_death  \\\n",
       "0  TCGA-YL-A8SH             Adenocarcinoma, NOS          875.0   \n",
       "1  TCGA-CJ-5679  Clear cell adenocarcinoma, NOS          679.0   \n",
       "2  TCGA-B0-5088  Clear cell adenocarcinoma, NOS          563.0   \n",
       "3  TCGA-B8-4143  Clear cell adenocarcinoma, NOS          709.0   \n",
       "4  TCGA-55-A490             Adenocarcinoma, NOS           99.0   \n",
       "\n",
       "                                case_id  \\\n",
       "0  bfb973eb-d42d-4900-a606-a381d2317555   \n",
       "1  3fa6c93e-e7fe-402c-9526-c81411aa0920   \n",
       "2  0022478c-4dfd-4cbe-a05e-fb20310844e3   \n",
       "3  dfa9513d-4e09-405b-a80f-2987ec5c5263   \n",
       "4  b89de053-d253-447f-952e-9a2edcf6bca5   \n",
       "\n",
       "                                              img_fp        l0        l1  \\\n",
       "0  TCGA-YL-A8SH-01Z-00-DX2.2B25B4BE-0236-44E4-A04...  0.479840  1.221100   \n",
       "1  TCGA-CJ-5679-01Z-00-DX1.659CD853-BC8A-474D-9EE...  0.632034  0.632034   \n",
       "2  TCGA-B0-5088-01Z-00-DX1.69bb79f8-33cc-4c9c-be6...  1.209505  1.093733   \n",
       "3  TCGA-B8-4143-01Z-00-DX1.44100402-0862-4e68-83f...  0.709068  0.674646   \n",
       "4  TCGA-55-A490-01Z-00-DX1.07D77502-7216-4C23-9BB...  1.010598  0.724026   \n",
       "\n",
       "         l2        l3 cluster_id     pca_1     pca_2  \n",
       "0  0.631098  0.740487          0 -0.116056 -0.355757  \n",
       "1  0.981619  1.039226          2  0.310956  0.243598  \n",
       "2  1.121510  1.303979          5  0.911711 -0.280997  \n",
       "3  0.953074  0.810293          2  0.271985  0.196638  \n",
       "4  0.856795  0.886262          2  0.484621  0.056095  "
      ]
     },
     "execution_count": 15,
     "metadata": {},
     "output_type": "execute_result"
    }
   ],
   "source": [
    "df.head()"
   ]
  },
  {
   "cell_type": "code",
   "execution_count": 16,
   "metadata": {},
   "outputs": [
    {
     "data": {
      "text/plain": [
       "<matplotlib.axes._subplots.AxesSubplot at 0x1229069d0>"
      ]
     },
     "execution_count": 16,
     "metadata": {},
     "output_type": "execute_result"
    },
    {
     "data": {
      "image/png": "[encoded data removed]",
      "text/plain": [
       "<Figure size 432x288 with 1 Axes>"
      ]
     },
     "metadata": {
      "needs_background": "light"
     },
     "output_type": "display_data"
    }
   ],
   "source": [
    "sns.scatterplot(x=df.pca_1, y=df.pca_2, style=df.cluster_id)"
   ]
  },
  {
   "cell_type": "code",
   "execution_count": null,
   "metadata": {},
   "outputs": [],
   "source": []
  }
 ],
 "metadata": {
  "kernelspec": {
   "display_name": "Bioimage",
   "language": "python",
   "name": "bioimage"
  },
  "language_info": {
   "codemirror_mode": {
    "name": "ipython",
    "version": 3
   },
   "file_extension": ".py",
   "mimetype": "text/x-python",
   "name": "python",
   "nbconvert_exporter": "python",
   "pygments_lexer": "ipython3",
   "version": "3.7.5"
  }
 },
 "nbformat": 4,
 "nbformat_minor": 4
}

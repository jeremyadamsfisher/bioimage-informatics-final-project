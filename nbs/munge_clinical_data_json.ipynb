{
 "cells": [
  {
   "cell_type": "code",
   "execution_count": 55,
   "metadata": {},
   "outputs": [],
   "source": [
    "import json\n",
    "import numpy as np\n",
    "import pandas as pd\n",
    "import datetime"
   ]
  },
  {
   "cell_type": "code",
   "execution_count": 56,
   "metadata": {},
   "outputs": [],
   "source": [
    "c_year = datetime.datetime.now().year"
   ]
  },
  {
   "cell_type": "code",
   "execution_count": 57,
   "metadata": {},
   "outputs": [],
   "source": [
    "with open(\"../data/clinical.cases_selection.2019-10-30.json\") as f:\n",
    "    j = json.load(f)"
   ]
  },
  {
   "cell_type": "code",
   "execution_count": 58,
   "metadata": {},
   "outputs": [],
   "source": [
    "dd = []\n",
    "ignored = []\n",
    "for jj in j:\n",
    "    ddx = {}\n",
    "    if \"demographic\" not in jj:\n",
    "        ignored.append(jj)\n",
    "        continue\n",
    "    ddx[\"days_to_death\"] = jj[\"demographic\"].get(\"days_to_death\", None)\n",
    "    ddx[\"prefix\"] = jj[\"demographic\"][\"submitter_id\"].split(\"_\")[0]\n",
    "    ddx[\"primary_diagnosis\"] = jj[\"diagnoses\"][0][\"primary_diagnosis\"]\n",
    "    ddx[\"diagnosis_year\"] = jj[\"diagnoses\"][0][\"year_of_diagnosis\"]\n",
    "    dd.append(ddx)\n",
    "df = pd.DataFrame.from_records(dd)"
   ]
  },
  {
   "cell_type": "code",
   "execution_count": 59,
   "metadata": {},
   "outputs": [
    {
     "data": {
      "text/plain": [
       "2920.0     1579\n",
       "3285.0     1362\n",
       "2555.0     1347\n",
       "3650.0      998\n",
       "4015.0      901\n",
       "2190.0      873\n",
       "4380.0      697\n",
       "4745.0      601\n",
       "5110.0      482\n",
       "5475.0      392\n",
       "5840.0      289\n",
       "6205.0      254\n",
       "6570.0      207\n",
       "6935.0      168\n",
       "7300.0      125\n",
       "7665.0      100\n",
       "8030.0       83\n",
       "8395.0       68\n",
       "8760.0       60\n",
       "9125.0       50\n",
       "9490.0       28\n",
       "9855.0       26\n",
       "10585.0       7\n",
       "10220.0       7\n",
       "11680.0       6\n",
       "10950.0       5\n",
       "11315.0       3\n",
       "12775.0       2\n",
       "14600.0       1\n",
       "13505.0       1\n",
       "12045.0       1\n",
       "12410.0       1\n",
       "14965.0       1\n",
       "Name: time_since_diagnosis_aprox, dtype: int64"
      ]
     },
     "execution_count": 59,
     "metadata": {},
     "output_type": "execute_result"
    }
   ],
   "source": [
    "df = (\n",
    "    df.assign(time_since_diagnosis_aprox=lambda _df: (c_year - _df.diagnosis_year) * 365)\n",
    ")\n",
    "df.time_since_diagnosis_aprox.value_counts()"
   ]
  },
  {
   "cell_type": "code",
   "execution_count": 60,
   "metadata": {},
   "outputs": [
    {
     "data": {
      "text/plain": [
       "127"
      ]
     },
     "execution_count": 60,
     "metadata": {},
     "output_type": "execute_result"
    }
   ],
   "source": [
    "# check out all these people without a diagnosis year\n",
    "df.time_since_diagnosis_aprox.isna().sum()"
   ]
  },
  {
   "cell_type": "code",
   "execution_count": 61,
   "metadata": {},
   "outputs": [
    {
     "data": {
      "text/plain": [
       "105"
      ]
     },
     "execution_count": 61,
     "metadata": {},
     "output_type": "execute_result"
    }
   ],
   "source": [
    "# these are useless\n",
    "(df.time_since_diagnosis_aprox.isna() & df.days_to_death.isna()).sum()"
   ]
  },
  {
   "cell_type": "code",
   "execution_count": 62,
   "metadata": {},
   "outputs": [],
   "source": [
    "df[\"problematic\"] = (df.time_since_diagnosis_aprox.isna() & df.days_to_death.isna())"
   ]
  },
  {
   "cell_type": "code",
   "execution_count": 63,
   "metadata": {},
   "outputs": [
    {
     "data": {
      "text/html": [
       "<div>\n",
       "<style scoped>\n",
       "    .dataframe tbody tr th:only-of-type {\n",
       "        vertical-align: middle;\n",
       "    }\n",
       "\n",
       "    .dataframe tbody tr th {\n",
       "        vertical-align: top;\n",
       "    }\n",
       "\n",
       "    .dataframe thead th {\n",
       "        text-align: right;\n",
       "    }\n",
       "</style>\n",
       "<table border=\"1\" class=\"dataframe\">\n",
       "  <thead>\n",
       "    <tr style=\"text-align: right;\">\n",
       "      <th></th>\n",
       "      <th>days_to_death</th>\n",
       "      <th>prefix</th>\n",
       "      <th>primary_diagnosis</th>\n",
       "      <th>diagnosis_year</th>\n",
       "      <th>time_since_diagnosis_aprox</th>\n",
       "      <th>problematic</th>\n",
       "    </tr>\n",
       "  </thead>\n",
       "  <tbody>\n",
       "    <tr>\n",
       "      <td>0</td>\n",
       "      <td>NaN</td>\n",
       "      <td>TCGA-A3-3336</td>\n",
       "      <td>Clear cell adenocarcinoma, NOS</td>\n",
       "      <td>2007.0</td>\n",
       "      <td>4380.0</td>\n",
       "      <td>False</td>\n",
       "    </tr>\n",
       "    <tr>\n",
       "      <td>1</td>\n",
       "      <td>1404.0</td>\n",
       "      <td>TCGA-CZ-4854</td>\n",
       "      <td>Clear cell adenocarcinoma, NOS</td>\n",
       "      <td>2005.0</td>\n",
       "      <td>5110.0</td>\n",
       "      <td>False</td>\n",
       "    </tr>\n",
       "    <tr>\n",
       "      <td>2</td>\n",
       "      <td>NaN</td>\n",
       "      <td>TCGA-B0-5698</td>\n",
       "      <td>Clear cell adenocarcinoma, NOS</td>\n",
       "      <td>2005.0</td>\n",
       "      <td>5110.0</td>\n",
       "      <td>False</td>\n",
       "    </tr>\n",
       "    <tr>\n",
       "      <td>3</td>\n",
       "      <td>722.0</td>\n",
       "      <td>TCGA-CZ-5454</td>\n",
       "      <td>Clear cell adenocarcinoma, NOS</td>\n",
       "      <td>2006.0</td>\n",
       "      <td>4745.0</td>\n",
       "      <td>False</td>\n",
       "    </tr>\n",
       "    <tr>\n",
       "      <td>4</td>\n",
       "      <td>313.0</td>\n",
       "      <td>TCGA-B0-4844</td>\n",
       "      <td>Clear cell adenocarcinoma, NOS</td>\n",
       "      <td>2004.0</td>\n",
       "      <td>5475.0</td>\n",
       "      <td>False</td>\n",
       "    </tr>\n",
       "  </tbody>\n",
       "</table>\n",
       "</div>"
      ],
      "text/plain": [
       "   days_to_death        prefix               primary_diagnosis  \\\n",
       "0            NaN  TCGA-A3-3336  Clear cell adenocarcinoma, NOS   \n",
       "1         1404.0  TCGA-CZ-4854  Clear cell adenocarcinoma, NOS   \n",
       "2            NaN  TCGA-B0-5698  Clear cell adenocarcinoma, NOS   \n",
       "3          722.0  TCGA-CZ-5454  Clear cell adenocarcinoma, NOS   \n",
       "4          313.0  TCGA-B0-4844  Clear cell adenocarcinoma, NOS   \n",
       "\n",
       "   diagnosis_year  time_since_diagnosis_aprox  problematic  \n",
       "0          2007.0                      4380.0        False  \n",
       "1          2005.0                      5110.0        False  \n",
       "2          2005.0                      5110.0        False  \n",
       "3          2006.0                      4745.0        False  \n",
       "4          2004.0                      5475.0        False  "
      ]
     },
     "execution_count": 63,
     "metadata": {},
     "output_type": "execute_result"
    }
   ],
   "source": [
    "df.head()"
   ]
  },
  {
   "cell_type": "code",
   "execution_count": 67,
   "metadata": {},
   "outputs": [],
   "source": [
    "df.to_csv(\"../data/histology_image_annotations.csv\", index=False)"
   ]
  },
  {
   "cell_type": "code",
   "execution_count": 68,
   "metadata": {},
   "outputs": [
    {
     "data": {
      "text/plain": [
       "['Adenocarcinoma, NOS',\n",
       " 'Squamous cell carcinoma, NOS',\n",
       " 'Infiltrating duct carcinoma, NOS',\n",
       " 'Papillary adenocarcinoma, NOS',\n",
       " 'Glioblastoma',\n",
       " 'Serous cystadenocarcinoma, NOS',\n",
       " 'Clear cell adenocarcinoma, NOS',\n",
       " 'Malignant melanoma, NOS',\n",
       " 'Hepatocellular carcinoma, NOS',\n",
       " 'Transitional cell carcinoma']"
      ]
     },
     "execution_count": 68,
     "metadata": {},
     "output_type": "execute_result"
    }
   ],
   "source": [
    "n_diagnoses = df[df.primary_diagnosis != \"Not Reported\"].primary_diagnosis.value_counts().sort_values(ascending=False)\n",
    "list(n_diagnoses[:10].index)"
   ]
  },
  {
   "cell_type": "code",
   "execution_count": 69,
   "metadata": {},
   "outputs": [
    {
     "data": {
      "text/plain": [
       "10852"
      ]
     },
     "execution_count": 69,
     "metadata": {},
     "output_type": "execute_result"
    }
   ],
   "source": [
    "len(df)"
   ]
  },
  {
   "cell_type": "code",
   "execution_count": null,
   "metadata": {},
   "outputs": [],
   "source": []
  }
 ],
 "metadata": {
  "kernelspec": {
   "display_name": "Data Cruncher",
   "language": "python",
   "name": "crunch"
  },
  "language_info": {
   "codemirror_mode": {
    "name": "ipython",
    "version": 3
   },
   "file_extension": ".py",
   "mimetype": "text/x-python",
   "name": "python",
   "nbconvert_exporter": "python",
   "pygments_lexer": "ipython3",
   "version": "3.7.4"
  }
 },
 "nbformat": 4,
 "nbformat_minor": 4
}
